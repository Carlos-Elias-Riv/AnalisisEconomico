{
 "cells": [
  {
   "cell_type": "markdown",
   "metadata": {},
   "source": [
    "#### Amazon S3"
   ]
  },
  {
   "cell_type": "code",
   "execution_count": 1,
   "metadata": {},
   "outputs": [],
   "source": [
    "import boto3\n",
    "s3 = boto3.client('s3')"
   ]
  },
  {
   "cell_type": "code",
   "execution_count": 9,
   "metadata": {},
   "outputs": [],
   "source": [
    "bucket_name = \"itam-analytics-charlie\"\n",
    "\n",
    "full_path = \"/workspaces/Arquitectura/\"\n",
    "file_paths = [\"Tarea06/data/inegi/inflacion.csv\", \"Tarea06/data/banxico/tipo_cambio.csv\", \"Tarea06/data/banxico/tasa_interes.csv\"]\n",
    "\n",
    "file_paths = [full_path + file_path for file_path in file_paths]\n",
    "for file_path in file_paths: \n",
    "    file_name = file_path.split(\"/\")[-1]\n",
    "    s3.upload_file(\n",
    "        Filename=file_path,\n",
    "        Bucket=bucket_name,\n",
    "        Key=\"econ/raw/\" + file_name.replace(\".csv\", \"\") + \"/\" + file_name\n",
    "    )\n",
    "    "
   ]
  },
  {
   "cell_type": "markdown",
   "metadata": {},
   "source": [
    "#### Amazon Glue and Athena"
   ]
  },
  {
   "cell_type": "code",
   "execution_count": 10,
   "metadata": {},
   "outputs": [],
   "source": [
    "from botocore.config import Config\n",
    "my_config = Config(\n",
    "    region_name = 'us-east-1'\n",
    ")\n",
    "\n",
    "glue = boto3.client('glue', config=my_config)"
   ]
  },
  {
   "cell_type": "code",
   "execution_count": 11,
   "metadata": {},
   "outputs": [
    {
     "data": {
      "text/plain": [
       "{'ResponseMetadata': {'RequestId': 'c10f28f2-15c7-4c9d-9c8a-bcaca566ddf5',\n",
       "  'HTTPStatusCode': 200,\n",
       "  'HTTPHeaders': {'date': 'Mon, 17 Mar 2025 22:51:24 GMT',\n",
       "   'content-type': 'application/x-amz-json-1.1',\n",
       "   'content-length': '2',\n",
       "   'connection': 'keep-alive',\n",
       "   'x-amzn-requestid': 'c10f28f2-15c7-4c9d-9c8a-bcaca566ddf5',\n",
       "   'cache-control': 'no-cache'},\n",
       "  'RetryAttempts': 0}}"
      ]
     },
     "execution_count": 11,
     "metadata": {},
     "output_type": "execute_result"
    }
   ],
   "source": [
    "response = glue.create_database(\n",
    "    DatabaseInput={\n",
    "        'Name': 'econ',\n",
    "        'Description': 'Base de datos de análisis de tipo de cambio, tasa de interés y de inflación',\n",
    "    },\n",
    ")\n",
    "response"
   ]
  },
  {
   "cell_type": "code",
   "execution_count": 12,
   "metadata": {},
   "outputs": [],
   "source": [
    "import awswrangler as wr\n",
    "\n",
    "\n",
    "query = '''\n",
    "    CREATE EXTERNAL TABLE IF NOT EXISTS `econ`.`tasa_de_interes` (\n",
    "    `date` DATE,\n",
    "    `tasa_de_interes` DOUBLE\n",
    "    )\n",
    "    ROW FORMAT SERDE 'org.apache.hadoop.hive.serde2.lazy.LazySimpleSerDe'\n",
    "    WITH SERDEPROPERTIES ('field.delim' = ',')\n",
    "    STORED AS INPUTFORMAT 'org.apache.hadoop.mapred.TextInputFormat' \n",
    "    OUTPUTFORMAT 'org.apache.hadoop.hive.ql.io.HiveIgnoreKeyTextOutputFormat'\n",
    "    LOCATION 's3://itam-analytics-charlie/econ/raw/tasa_interes/'\n",
    "    TBLPROPERTIES ('classification' = 'csv', \"skip.header.line.count\"=\"1\");\n",
    "'''"
   ]
  },
  {
   "cell_type": "code",
   "execution_count": 13,
   "metadata": {},
   "outputs": [
    {
     "data": {
      "text/html": [
       "<div>\n",
       "<style scoped>\n",
       "    .dataframe tbody tr th:only-of-type {\n",
       "        vertical-align: middle;\n",
       "    }\n",
       "\n",
       "    .dataframe tbody tr th {\n",
       "        vertical-align: top;\n",
       "    }\n",
       "\n",
       "    .dataframe thead th {\n",
       "        text-align: right;\n",
       "    }\n",
       "</style>\n",
       "<table border=\"1\" class=\"dataframe\">\n",
       "  <thead>\n",
       "    <tr style=\"text-align: right;\">\n",
       "      <th></th>\n",
       "    </tr>\n",
       "  </thead>\n",
       "  <tbody>\n",
       "  </tbody>\n",
       "</table>\n",
       "</div>"
      ],
      "text/plain": [
       "Empty DataFrame\n",
       "Columns: []\n",
       "Index: []"
      ]
     },
     "execution_count": 13,
     "metadata": {},
     "output_type": "execute_result"
    }
   ],
   "source": [
    "wr.athena.read_sql_query(\n",
    "    query, \n",
    "    database=\"econ\", \n",
    "    ctas_approach=False\n",
    ")"
   ]
  },
  {
   "cell_type": "code",
   "execution_count": 14,
   "metadata": {},
   "outputs": [],
   "source": [
    "query = '''\n",
    "    CREATE EXTERNAL TABLE IF NOT EXISTS `econ`.`tipo_de_cambio` (\n",
    "    `date` DATE,\n",
    "    `tipo_de_cambio` DOUBLE\n",
    "    )\n",
    "    ROW FORMAT SERDE 'org.apache.hadoop.hive.serde2.lazy.LazySimpleSerDe'\n",
    "    WITH SERDEPROPERTIES ('field.delim' = ',')\n",
    "    STORED AS INPUTFORMAT 'org.apache.hadoop.mapred.TextInputFormat' \n",
    "    OUTPUTFORMAT 'org.apache.hadoop.hive.ql.io.HiveIgnoreKeyTextOutputFormat'\n",
    "    LOCATION 's3://itam-analytics-charlie/econ/raw/tipo_cambio/'\n",
    "    TBLPROPERTIES ('classification' = 'csv', \"skip.header.line.count\"=\"1\");\n",
    "'''"
   ]
  },
  {
   "cell_type": "code",
   "execution_count": 15,
   "metadata": {},
   "outputs": [
    {
     "data": {
      "text/html": [
       "<div>\n",
       "<style scoped>\n",
       "    .dataframe tbody tr th:only-of-type {\n",
       "        vertical-align: middle;\n",
       "    }\n",
       "\n",
       "    .dataframe tbody tr th {\n",
       "        vertical-align: top;\n",
       "    }\n",
       "\n",
       "    .dataframe thead th {\n",
       "        text-align: right;\n",
       "    }\n",
       "</style>\n",
       "<table border=\"1\" class=\"dataframe\">\n",
       "  <thead>\n",
       "    <tr style=\"text-align: right;\">\n",
       "      <th></th>\n",
       "    </tr>\n",
       "  </thead>\n",
       "  <tbody>\n",
       "  </tbody>\n",
       "</table>\n",
       "</div>"
      ],
      "text/plain": [
       "Empty DataFrame\n",
       "Columns: []\n",
       "Index: []"
      ]
     },
     "execution_count": 15,
     "metadata": {},
     "output_type": "execute_result"
    }
   ],
   "source": [
    "wr.athena.read_sql_query(\n",
    "    query, \n",
    "    database=\"econ\", \n",
    "    ctas_approach=False\n",
    ")"
   ]
  },
  {
   "cell_type": "code",
   "execution_count": 16,
   "metadata": {},
   "outputs": [],
   "source": [
    "query = '''\n",
    "    CREATE EXTERNAL TABLE IF NOT EXISTS `econ`.`inflacion` (\n",
    "    `date` DATE,\n",
    "    `inflacion` DOUBLE\n",
    "    )\n",
    "    ROW FORMAT SERDE 'org.apache.hadoop.hive.serde2.lazy.LazySimpleSerDe'\n",
    "    WITH SERDEPROPERTIES ('field.delim' = ',')\n",
    "    STORED AS INPUTFORMAT 'org.apache.hadoop.mapred.TextInputFormat' \n",
    "    OUTPUTFORMAT 'org.apache.hadoop.hive.ql.io.HiveIgnoreKeyTextOutputFormat'\n",
    "    LOCATION 's3://itam-analytics-charlie/econ/raw/inflacion/'\n",
    "    TBLPROPERTIES ('classification' = 'csv', \"skip.header.line.count\"=\"1\");\n",
    "'''"
   ]
  },
  {
   "cell_type": "code",
   "execution_count": 17,
   "metadata": {},
   "outputs": [
    {
     "data": {
      "text/html": [
       "<div>\n",
       "<style scoped>\n",
       "    .dataframe tbody tr th:only-of-type {\n",
       "        vertical-align: middle;\n",
       "    }\n",
       "\n",
       "    .dataframe tbody tr th {\n",
       "        vertical-align: top;\n",
       "    }\n",
       "\n",
       "    .dataframe thead th {\n",
       "        text-align: right;\n",
       "    }\n",
       "</style>\n",
       "<table border=\"1\" class=\"dataframe\">\n",
       "  <thead>\n",
       "    <tr style=\"text-align: right;\">\n",
       "      <th></th>\n",
       "    </tr>\n",
       "  </thead>\n",
       "  <tbody>\n",
       "  </tbody>\n",
       "</table>\n",
       "</div>"
      ],
      "text/plain": [
       "Empty DataFrame\n",
       "Columns: []\n",
       "Index: []"
      ]
     },
     "execution_count": 17,
     "metadata": {},
     "output_type": "execute_result"
    }
   ],
   "source": [
    "wr.athena.read_sql_query(\n",
    "    query, \n",
    "    database=\"econ\", \n",
    "    ctas_approach=False\n",
    ")"
   ]
  }
 ],
 "metadata": {
  "kernelspec": {
   "display_name": ".arquivenv",
   "language": "python",
   "name": "python3"
  },
  "language_info": {
   "codemirror_mode": {
    "name": "ipython",
    "version": 3
   },
   "file_extension": ".py",
   "mimetype": "text/x-python",
   "name": "python",
   "nbconvert_exporter": "python",
   "pygments_lexer": "ipython3",
   "version": "3.11.11"
  }
 },
 "nbformat": 4,
 "nbformat_minor": 2
}
